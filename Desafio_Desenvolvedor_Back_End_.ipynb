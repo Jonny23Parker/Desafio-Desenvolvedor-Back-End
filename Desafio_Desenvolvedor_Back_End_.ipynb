{
  "nbformat": 4,
  "nbformat_minor": 0,
  "metadata": {
    "colab": {
      "provenance": [],
      "authorship_tag": "ABX9TyMfWp6j6AaFxF2ZSXCO3EFC",
      "include_colab_link": true
    },
    "kernelspec": {
      "name": "python3",
      "display_name": "Python 3"
    },
    "language_info": {
      "name": "python"
    }
  },
  "cells": [
    {
      "cell_type": "markdown",
      "metadata": {
        "id": "view-in-github",
        "colab_type": "text"
      },
      "source": [
        "<a href=\"https://colab.research.google.com/github/Jonny23Parker/Desafio-Desenvolvedor-Back-End/blob/main/Desafio_Desenvolvedor_Back_End_.ipynb\" target=\"_parent\"><img src=\"https://colab.research.google.com/assets/colab-badge.svg\" alt=\"Open In Colab\"/></a>"
      ]
    },
    {
      "cell_type": "code",
      "execution_count": 26,
      "metadata": {
        "colab": {
          "base_uri": "https://localhost:8080/"
        },
        "id": "jM_qAjQBA7FJ",
        "outputId": "b410bf9d-72de-4a32-9924-ecf7bc04336e"
      },
      "outputs": [
        {
          "output_type": "stream",
          "name": "stdout",
          "text": [
            "O valor da variável SOMA ao final do processamento é 77.\n"
          ]
        }
      ],
      "source": [
        "def calcular_soma():\n",
        "    INDICE = 12\n",
        "    SOMA = 0\n",
        "    K = 1\n",
        "\n",
        "    while K < INDICE:\n",
        "        K += 1\n",
        "        SOMA += K\n",
        "\n",
        "    return SOMA\n",
        "\n",
        "# O resultado sera impresso na tela.\n",
        "print(f\"O valor da variável SOMA ao final do processamento é {calcular_soma()}.\")\n",
        "\n"
      ]
    },
    {
      "cell_type": "code",
      "source": [
        "def proximo_elemento_a():\n",
        "    # a) 1, 3, 5, 7, ___ (sequência de números ímpares)\n",
        "    seq = [1, 3, 5, 7]\n",
        "    # O próximo número é o próximo ímpar: (proxima sequencia -1 posição =7  acrescenta + 2)\n",
        "    proximo = seq[-1] + 2\n",
        "    return proximo\n",
        "\n",
        "def proximo_elemento_b():\n",
        "    # b) 2, 4, 8, 16, 32, 64, ____ (cada número é o dobro do anterior)\n",
        "    seq = [2, 4, 8, 16, 32, 64]\n",
        "    # O próximo número é o dobro de 64 (proxima sequencia -1 posição)\n",
        "    proximo = seq[-1] * 2\n",
        "    return proximo\n",
        "\n",
        "def proximo_elemento_c():\n",
        "    # c) 0, 1, 4, 9, 16, 25, 36, ____ (sequência de quadrados de números inteiros)\n",
        "    seq = [0, 1, 4, 9, 16, 25, 36]\n",
        "    # O próximo número é o quadrado de 7, pois existe 6 numeros > 0.\n",
        "    proximo = (len(seq)) ** 2\n",
        "    return proximo\n",
        "\n",
        "def proximo_elemento_d():\n",
        "    # d) 4, 16, 36, 64, ____ (sequência de quadrados de números pares)\n",
        "    seq = [4, 16, 36, 64]\n",
        "    # O próximo número é o quadrado do próximo número par (10)= (sendo ultima posição par * 2 + 2)\n",
        "    proximo = (len(seq) * 2 +2 ) ** 2\n",
        "    # esse codigo so ira dar o resultado apenas para essa questao\n",
        "    return proximo\n",
        "\n",
        "    # para utilizar de forma pedir quantidade de elementos faria conforme abaixo:\n",
        "\n",
        "    # def quadrados_numeros_pares(qtd_elementos):\n",
        "    # Inicializa a lista para armazenar os quadrados\n",
        "    # seq = []\n",
        "    # Inicializa o primeiro número par\n",
        "    # n = 2\n",
        "        # Calcula o quadrado dos primeiros 'qtd_elementos' números pares\n",
        "    # for _ in range(qtd_elementos):\n",
        "    #   seq.append(n ** 2)  # Adiciona o quadrado do número par à lista\n",
        "    #    n += 2  # Incrementa para o próximo número par\n",
        "\n",
        "        #return seq\n",
        "\n",
        "# Solicita ao usuário a quantidade de elementos\n",
        "# qtd_elementos = int(input(\"Quantos elementos da sequência de quadrados de números pares deseja? \"))\n",
        "\n",
        "# Chama a função com o valor informado pelo usuário\n",
        "# resultado = quadrados_numeros_pares(qtd_elementos)\n",
        "\n",
        "# Exibe o resultado\n",
        "# print(resultado)\n",
        "\n",
        "\n",
        "\n",
        "def proximo_elemento_e():\n",
        "    # e) 1, 1, 2, 3, 5, 8, ____ (sequência de Fibonacci)\n",
        "    seq = [1, 1, 2, 3, 5, 8]\n",
        "    # O próximo número é a soma dos dois últimos numeros da sequencia.\n",
        "    proximo = seq[-1] + seq[-2]\n",
        "    return proximo\n",
        "\n",
        "def proximo_elemento_f():\n",
        "    # f) 2, 10, 12, 16, 17, 18, 19, ____ (lógica alternativa)\n",
        "    seq = [2, 10, 12, 16, 17, 18, 19]\n",
        "    # O próximo número após 19 seguindo a lógica identificada é 20  a meu ver seria (incrementa 1 novamente)\n",
        "    proximo = seq[-1] + 1\n",
        "    return proximo\n",
        "\n",
        "# Executa os cálculos e imprime os resultados\n",
        "print(\"a) Próximo número questão a:\", proximo_elemento_a())\n",
        "print(\"b) Próximo número questão b:\", proximo_elemento_b())\n",
        "print(\"c) Próximo número questão c:\", proximo_elemento_c())\n",
        "print(\"d) Próximo número questão d:\", proximo_elemento_d())\n",
        "print(\"e) Próximo número questão e:\", proximo_elemento_e())\n",
        "print(\"f) Próximo número questão f:\", proximo_elemento_f())\n",
        "\n"
      ],
      "metadata": {
        "colab": {
          "base_uri": "https://localhost:8080/"
        },
        "id": "9XsTcEonCWhz",
        "outputId": "c77e1331-cf59-41d6-d57f-117cd94c2a88"
      },
      "execution_count": 25,
      "outputs": [
        {
          "output_type": "stream",
          "name": "stdout",
          "text": [
            "a) Próximo número questão a: 9\n",
            "b) Próximo número questão b: 128\n",
            "c) Próximo número questão c: 49\n",
            "d) Próximo número questão d: 100\n",
            "e) Próximo número questão e: 13\n",
            "f) Próximo número questão f: 20\n"
          ]
        }
      ]
    },
    {
      "cell_type": "code",
      "source": [
        "# Exemplo de vetor de faturamento diário (já carregado com dados de faturamento)\n",
        "faturamento_diario = [100, 200, 0, 150, 0, 300, 0, 400, 500, 0, 600, 700, 0, 0, 800, 0, 250, 0, 900, 1000, 0, 1100, 0, 1200, 0, 1300, 1400, 0, 0, 1500]\n",
        "\n",
        "\n",
        "# Remover dias sem faturamento (valores zero)\n",
        "faturamento_valido = [faturamento for faturamento in faturamento_diario if faturamento > 0]\n",
        "\n",
        "# Calcular o menor e maior valor de faturamento\n",
        "menor_faturamento = min(faturamento_valido)\n",
        "maior_faturamento = max(faturamento_valido)\n",
        "\n",
        "# Calcular a média de faturamento anual (ignora dias sem faturamento)\n",
        "media_faturamento = sum(faturamento_valido) / len(faturamento_valido)\n",
        "\n",
        "# Calcular o número de dias com faturamento superior à média\n",
        "dias_acima_da_media = len([faturamento for faturamento in faturamento_valido if faturamento > media_faturamento])\n",
        "\n",
        "# Exibir os resultados\n",
        "print(f\"Menor valor de faturamento ocorrido em um dia do ano: {menor_faturamento}\")\n",
        "print(f\"Maior valor de faturamento ocorrido em um dia do ano: {maior_faturamento}\")\n",
        "print(f\"Número de dias com faturamento superior à média anual: {dias_acima_da_media}\")\n"
      ],
      "metadata": {
        "colab": {
          "base_uri": "https://localhost:8080/"
        },
        "id": "cy_LntnWDbPo",
        "outputId": "8a9ebb83-7ab6-42c9-b510-27724f92075f"
      },
      "execution_count": 24,
      "outputs": [
        {
          "output_type": "stream",
          "name": "stdout",
          "text": [
            "Menor valor de faturamento ocorrido em um dia do ano: 100\n",
            "Maior valor de faturamento ocorrido em um dia do ano: 1500\n",
            "Número de dias com faturamento superior à média anual: 8\n"
          ]
        }
      ]
    },
    {
      "cell_type": "code",
      "source": [
        "# Dados do problema\n",
        "distancia_total = 125  # km\n",
        "velocidade_carro_kmh = 90  # km/h\n",
        "velocidade_caminhao_kmh = 80  # km/h\n",
        "num_pedagios = 3  # número de pedágios\n",
        "tempo_adicional_por_pedagio_carro_min = 5  # 5 minutos por pedágio\n",
        "\n",
        "# Conversão das velocidades para km/min\n",
        "velocidade_carro_km_min = velocidade_carro_kmh / 60  # km/min\n",
        "velocidade_caminhao_km_min = velocidade_caminhao_kmh / 60  # km/min\n",
        "\n",
        "# Distância entre os pedágios\n",
        "distancia_por_pedagio = distancia_total / num_pedagios  # Distância entre cada pedágio\n",
        "\n",
        "# Inicialização das variáveis\n",
        "distancia_carro = 0.0\n",
        "distancia_caminhao = 0.0\n",
        "tempo_total = 0  # tempo em minutos\n",
        "paradas_carro = 0\n",
        "\n",
        "# Loop para calcular a distância percorrida por ambos até o encontro\n",
        "while (distancia_carro + distancia_caminhao) < distancia_total:\n",
        "    # Incremento da distância percorrida por minuto\n",
        "    distancia_carro += velocidade_carro_km_min\n",
        "    distancia_caminhao += velocidade_caminhao_km_min\n",
        "    tempo_total += 1  # Incrementa o tempo a cada minuto\n",
        "\n",
        "    # Verifica se o carro chegou ao próximo pedágio e precisa parar\n",
        "    if paradas_carro < num_pedagios and distancia_carro >= distancia_por_pedagio * (paradas_carro + 1):\n",
        "        # O carro para por 5 minutos\n",
        "        tempo_total += tempo_adicional_por_pedagio_carro_min\n",
        "        paradas_carro += 1  # Incrementa o número de paradas\n",
        "\n",
        "        # Enquanto o carro está parado, o caminhão continua se movendo\n",
        "        distancia_caminhao += velocidade_caminhao_km_min * tempo_adicional_por_pedagio_carro_min\n",
        "\n",
        "# Ajustar a distância final para garantir que não ultrapasse a distância total\n",
        "if (distancia_carro + distancia_caminhao) > distancia_total:\n",
        "    excesso = (distancia_carro + distancia_caminhao) - distancia_total\n",
        "    distancia_carro -= excesso  # Ajusta a distância percorrida pelo carro\n",
        "\n",
        "# Resultados finais\n",
        "print(f\"Tempo total até o encontro: {tempo_total} minutos\")\n",
        "print(f\"Distância percorrida pelo carro até o ponto de encontro: {distancia_carro:.2f} km\")\n",
        "print(f\"Distância percorrida pelo caminhão até o ponto de encontro: {distancia_caminhao:.2f} km\")\n",
        "print(f\"Número de paradas do carro: {paradas_carro}\")\n",
        "\n"
      ],
      "metadata": {
        "colab": {
          "base_uri": "https://localhost:8080/"
        },
        "id": "eu9He03iEWZh",
        "outputId": "b4ab54b2-0803-41ba-9a6f-afbdeb7fa800"
      },
      "execution_count": 23,
      "outputs": [
        {
          "output_type": "stream",
          "name": "stdout",
          "text": [
            "Tempo total até o encontro: 47 minutos\n",
            "Distância percorrida pelo carro até o ponto de encontro: 62.33 km\n",
            "Distância percorrida pelo caminhão até o ponto de encontro: 62.67 km\n",
            "Número de paradas do carro: 1\n"
          ]
        }
      ]
    },
    {
      "cell_type": "code",
      "source": [],
      "metadata": {
        "id": "pXRyNF-GWsMi"
      },
      "execution_count": null,
      "outputs": []
    }
  ]
}